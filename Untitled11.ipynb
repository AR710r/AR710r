{
  "nbformat": 4,
  "nbformat_minor": 0,
  "metadata": {
    "colab": {
      "provenance": [],
      "collapsed_sections": [],
      "authorship_tag": "ABX9TyNsfeUsdQrxN88ug0BDmitz",
      "include_colab_link": true
    },
    "kernelspec": {
      "name": "python3",
      "display_name": "Python 3"
    },
    "language_info": {
      "name": "python"
    }
  },
  "cells": [
    {
      "cell_type": "markdown",
      "metadata": {
        "id": "view-in-github",
        "colab_type": "text"
      },
      "source": [
        "<a href=\"https://colab.research.google.com/github/AR710r/AR710r/blob/main/Untitled11.ipynb\" target=\"_parent\"><img src=\"https://colab.research.google.com/assets/colab-badge.svg\" alt=\"Open In Colab\"/></a>"
      ]
    },
    {
      "cell_type": "code",
      "execution_count": null,
      "metadata": {
        "colab": {
          "base_uri": "https://localhost:8080/"
        },
        "id": "oN7t5DJOIXL1",
        "outputId": "e31b3550-8e21-4ab9-ee21-b7a5561f9e75"
      },
      "outputs": [
        {
          "output_type": "stream",
          "name": "stdout",
          "text": [
            "9383\n"
          ]
        }
      ],
      "source": [
        "import random;\n",
        "import smtplib;\n",
        "server =smtplib.SMTP('smtp.gmail.com',587)\n",
        "#print(server)\n",
        "server.starttls()\n",
        "server.login('rajshriabuj2007@gmail.com',password= \"nkrf kqak gdpy dyju\")\n",
        "otp=''.join([str(random.randint(0,9))for i in range(4)])\n",
        "msg='Hello, your otp is '+str(otp)\n",
        "server.sendmail('rajshriabuj2007@gmail.com','abujrajshri@gmail.com',msg)\n",
        "server.quit()\n",
        "print(otp)"
      ]
    }
  ]
}